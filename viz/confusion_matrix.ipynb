{
 "cells": [
  {
   "cell_type": "code",
   "execution_count": 13,
   "metadata": {},
   "outputs": [
    {
     "name": "stdout",
     "output_type": "stream",
     "text": [
      "Index(['BAROQUE', 'EARLY RENAISSANCE', 'HIGH RENAISSANCE', 'IMPRESSIONISM',\n",
      "       'MANNERISM', 'MEDIEVAL', 'MINIMALISM', 'NEOCLASSICISM', 'REALISM',\n",
      "       'ROCOCO', 'ROMANTICISM', 'SURREALISM', 'style'],\n",
      "      dtype='object')\n",
      "[[100 16 2 4 1 12 1 15 3 4 4 1 'BAROQUE']\n",
      " [17 63 5 2 3 17 1 10 1 0 0 0 'EARLY RENAISSANCE']\n",
      " [9 16 10 1 1 5 0 2 2 0 1 2 'HIGH RENAISSANCE']\n",
      " [1 2 0 25 0 0 0 4 5 0 1 1 'IMPRESSIONISM']\n",
      " [17 8 1 1 5 1 0 6 0 0 2 0 'MANNERISM']\n",
      " [6 10 0 2 0 76 0 3 0 0 1 0 'MEDIEVAL']\n",
      " [0 0 2 0 0 0 57 1 0 0 0 3 'MINIMALISM']\n",
      " [16 7 0 1 0 1 0 41 4 0 2 0 'NEOCLASSICISM']\n",
      " [9 3 0 3 1 0 0 4 30 0 4 0 'REALISM']\n",
      " [18 3 0 3 0 0 0 13 0 3 0 0 'ROCOCO']\n",
      " [14 0 1 2 1 3 0 6 2 0 5 0 'ROMANTICISM']\n",
      " [2 1 0 1 0 1 5 0 1 0 0 19 'SURREALISM']]\n"
     ]
    }
   ],
   "source": [
    "import matplotlib.pyplot as plt\n",
    "import numpy as np\n",
    "import pandas as pd\n",
    "\n",
    "def plot_confusion_matrix(matrix, classes, normalize=False, \n",
    "                          title='Confusion matrix', cmap=plt.cm.Blues):\n",
    "    fig, ax = plt.subplots()\n",
    "    im = ax.imshow(matrix)\n",
    "    \n",
    "    # We want to show all ticks and names\n",
    "    ax.set_xticks(np.arange(len(classes)))\n",
    "    ax.set_yticks(np.arange(len(classes)))\n",
    "    ax.set_xticklabels(classes)\n",
    "    ax.set_yticklabels(classes)\n",
    "    \n",
    "    \n",
    "    \n",
    "    \n",
    "    \n",
    "\n",
    "\n",
    "styles = ['BAROQUE', 'EARLY RENAISSANCE', 'HIGH RENAISSANCE', 'IMPRESSIONISM',\n",
    "          'MANNERISM', 'MEDIEVAL', 'MINIMALISM', 'NEOCLASSICISM', 'REALISM',\n",
    "          'ROCOCO', 'ROMANTICISM', 'SURREALISM']\n",
    "\n",
    "df = pd.read_csv(\"../../test_preds.csv\", usecols=[*styles, \"style\"])\n",
    "print(df.values)"
   ]
  },
  {
   "cell_type": "code",
   "execution_count": null,
   "metadata": {},
   "outputs": [],
   "source": []
  }
 ],
 "metadata": {
  "kernelspec": {
   "display_name": "Python 3",
   "language": "python",
   "name": "python3"
  },
  "language_info": {
   "codemirror_mode": {
    "name": "ipython",
    "version": 3
   },
   "file_extension": ".py",
   "mimetype": "text/x-python",
   "name": "python",
   "nbconvert_exporter": "python",
   "pygments_lexer": "ipython3",
   "version": "3.6.5"
  }
 },
 "nbformat": 4,
 "nbformat_minor": 2
}
